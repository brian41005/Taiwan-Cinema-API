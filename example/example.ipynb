{
 "cells": [
  {
   "cell_type": "code",
   "execution_count": 4,
   "metadata": {
    "collapsed": true
   },
   "outputs": [],
   "source": [
    "import sys, os\n",
    "sys.path.append(os.path.dirname(os.path.realpath('.')))"
   ]
  },
  {
   "cell_type": "code",
   "execution_count": 5,
   "metadata": {},
   "outputs": [],
   "source": [
    "from twmovieapi import User, mm"
   ]
  },
  {
   "cell_type": "code",
   "execution_count": 6,
   "metadata": {},
   "outputs": [
    {
     "data": {
      "text/plain": [
       "<Response [200]>"
      ]
     },
     "execution_count": 6,
     "metadata": {},
     "output_type": "execute_result"
    }
   ],
   "source": [
    "user = User('config.json')\n",
    "book = mm.Book(user)\n",
    "book.login()"
   ]
  },
  {
   "cell_type": "markdown",
   "metadata": {},
   "source": [
    "## Get Movie Info"
   ]
  },
  {
   "cell_type": "code",
   "execution_count": 7,
   "metadata": {
    "collapsed": true,
    "scrolled": false
   },
   "outputs": [],
   "source": [
    "# get mirama movie screenings info\n",
    "info = mm.MovieInfo()\n",
    "movies = [[m,d,t] for m, d, t in info.get('MM')]"
   ]
  },
  {
   "cell_type": "code",
   "execution_count": null,
   "metadata": {},
   "outputs": [],
   "source": [
    "for m in movies:\n",
    "    print(m)"
   ]
  },
  {
   "cell_type": "code",
   "execution_count": 9,
   "metadata": {},
   "outputs": [
    {
     "data": {
      "text/plain": [
       "'1001'"
      ]
     },
     "execution_count": 9,
     "metadata": {},
     "output_type": "execute_result"
    }
   ],
   "source": [
    "cid = info.getcid(\"MM\")\n",
    "cid"
   ]
  },
  {
   "cell_type": "code",
   "execution_count": 10,
   "metadata": {},
   "outputs": [
    {
     "data": {
      "text/plain": [
       "'803966'"
      ]
     },
     "execution_count": 10,
     "metadata": {},
     "output_type": "execute_result"
    }
   ],
   "source": [
    "sid = movies[0][2]['id']\n",
    "sid"
   ]
  },
  {
   "cell_type": "code",
   "execution_count": 11,
   "metadata": {},
   "outputs": [
    {
     "name": "stdout",
     "output_type": "stream",
     "text": [
      "\u001b[30m\u001b[40m    \u001b[40m    \u001b[40m    \u001b[40m    \u001b[40m    \u001b[41m A6 \u001b[40m    \u001b[41m W1 \u001b[41m W2 \u001b[41mA10 \u001b[41mA11 \u001b[41mA12 \u001b[41mA13 \u001b[41mA14 \u001b[41mA15 \u001b[40m    \u001b[40m    \u001b[40m    \u001b[40m    \u001b[40m\n",
      "\u001b[40m    \u001b[40m    \u001b[42m B3 \u001b[42m B4 \u001b[40m    \u001b[42m B6 \u001b[42m B7 \u001b[42m B8 \u001b[42m B9 \u001b[42mB10 \u001b[42mB11 \u001b[42mB12 \u001b[42mB13 \u001b[42mB14 \u001b[42mB15 \u001b[40m    \u001b[42mB17 \u001b[42mB18 \u001b[40m    \u001b[40m\n",
      "\u001b[42m C1 \u001b[42m C2 \u001b[42m C3 \u001b[42m C4 \u001b[40m    \u001b[42m C6 \u001b[42m C7 \u001b[42m C8 \u001b[42m C9 \u001b[42mC10 \u001b[42mC11 \u001b[42mC12 \u001b[42mC13 \u001b[42mC14 \u001b[42mC15 \u001b[40m    \u001b[42mC17 \u001b[42mC18 \u001b[42mC19 \u001b[40m\n",
      "\u001b[42m D1 \u001b[42m D2 \u001b[42m D3 \u001b[42m D4 \u001b[40m    \u001b[42m D6 \u001b[42m D7 \u001b[42m D8 \u001b[42m D9 \u001b[42mD10 \u001b[42mD11 \u001b[42mD12 \u001b[42mD13 \u001b[42mD14 \u001b[42mD15 \u001b[40m    \u001b[42mD17 \u001b[42mD18 \u001b[42mD19 \u001b[40m\n",
      "\u001b[42m E1 \u001b[42m E2 \u001b[42m E3 \u001b[42m E4 \u001b[40m    \u001b[42m E6 \u001b[42m E7 \u001b[42m E8 \u001b[42m E9 \u001b[42mE10 \u001b[42mE11 \u001b[42mE12 \u001b[42mE13 \u001b[42mE14 \u001b[42mE15 \u001b[40m    \u001b[42mE17 \u001b[42mE18 \u001b[42mE19 \u001b[40m\n",
      "\u001b[42m F1 \u001b[42m F2 \u001b[42m F3 \u001b[42m F4 \u001b[40m    \u001b[42m F6 \u001b[42m F7 \u001b[42m F8 \u001b[42m F9 \u001b[42mF10 \u001b[42mF11 \u001b[42mF12 \u001b[42mF13 \u001b[42mF14 \u001b[42mF15 \u001b[40m    \u001b[42mF17 \u001b[42mF18 \u001b[42mF19 \u001b[40m\n",
      "\u001b[42m G1 \u001b[42m G2 \u001b[42m G3 \u001b[42m G4 \u001b[40m    \u001b[42m G6 \u001b[42m G7 \u001b[42m G8 \u001b[42m G9 \u001b[42mG10 \u001b[42mG11 \u001b[42mG12 \u001b[42mG13 \u001b[42mG14 \u001b[42mG15 \u001b[40m    \u001b[42mG17 \u001b[42mG18 \u001b[42mG19 \u001b[40m\n",
      "\u001b[40m    \u001b[40m    \u001b[40m    \u001b[40m    \u001b[40m    \u001b[40m    \u001b[40m    \u001b[40m    \u001b[40m    \u001b[40m    \u001b[40m    \u001b[40m    \u001b[40m    \u001b[40m    \u001b[40m    \u001b[40m    \u001b[40m    \u001b[40m    \u001b[40m    \u001b[40m\n",
      "\u001b[42m H1 \u001b[42m H2 \u001b[42m H3 \u001b[42m H4 \u001b[40m    \u001b[42m H6 \u001b[42m H7 \u001b[42m H8 \u001b[42m H9 \u001b[42mH10 \u001b[42mH11 \u001b[42mH12 \u001b[42mH13 \u001b[42mH14 \u001b[42mH15 \u001b[40m    \u001b[42mH17 \u001b[42mH18 \u001b[42mH19 \u001b[40m\n",
      "\u001b[42m I1 \u001b[42m I2 \u001b[42m I3 \u001b[42m I4 \u001b[40m    \u001b[42m I6 \u001b[42m I7 \u001b[42m I8 \u001b[42m I9 \u001b[42mI10 \u001b[42mI11 \u001b[42mI12 \u001b[42mI13 \u001b[42mI14 \u001b[42mI15 \u001b[40m    \u001b[42mI17 \u001b[42mI18 \u001b[42mI19 \u001b[40m\n",
      "\u001b[42m J1 \u001b[42m J2 \u001b[42m J3 \u001b[42m J4 \u001b[40m    \u001b[42m J6 \u001b[42m J7 \u001b[42m J8 \u001b[42m J9 \u001b[42mJ10 \u001b[42mJ11 \u001b[42mJ12 \u001b[42mJ13 \u001b[42mJ14 \u001b[42mJ15 \u001b[40m    \u001b[41mJ17 \u001b[41mJ18 \u001b[41mJ19 \u001b[40m\n",
      "\u001b[42m K1 \u001b[42m K2 \u001b[42m K3 \u001b[42m K4 \u001b[40m    \u001b[42m K6 \u001b[42m K7 \u001b[42m K8 \u001b[42m K9 \u001b[42mK10 \u001b[42mK11 \u001b[42mK12 \u001b[42mK13 \u001b[42mK14 \u001b[42mK15 \u001b[40m    \u001b[41mK17 \u001b[41mK18 \u001b[41mK19 \u001b[40m\n",
      "\u001b[42m L1 \u001b[42m L2 \u001b[42m L3 \u001b[42m L4 \u001b[42m L5 \u001b[42m L6 \u001b[42m L7 \u001b[42m L8 \u001b[42m L9 \u001b[42mL10 \u001b[42mL11 \u001b[42mL12 \u001b[42mL13 \u001b[42mL14 \u001b[42mL15 \u001b[42mL16 \u001b[42mL17 \u001b[42mL18 \u001b[42mL19 \u001b[40m\n",
      "\u001b[0m\n"
     ]
    }
   ],
   "source": [
    "book.set_screenings(cid, sid)\n",
    "\n",
    "response = book.set_ticket(discounted=1)\n",
    "\n",
    "# parse seat info\n",
    "seatdict = mm.seat.get_seat(response)\n",
    "\n",
    "# print layout\n",
    "layout = mm.seat.gen_layout(seatdict)\n",
    "mm.seat.print_seating_chart(layout)"
   ]
  },
  {
   "cell_type": "code",
   "execution_count": null,
   "metadata": {
    "collapsed": true,
    "scrolled": true
   },
   "outputs": [],
   "source": [
    "# set seat\n",
    "response = book.set_seat([seatdict['B12'][0],\n",
    "                          seatdict['B11'][0]])\n",
    "\n",
    "# you will seat final confirm page\n",
    "#print(response.content.decode())"
   ]
  },
  {
   "cell_type": "code",
   "execution_count": 12,
   "metadata": {},
   "outputs": [
    {
     "data": {
      "text/plain": [
       "<Response [200]>"
      ]
     },
     "execution_count": 12,
     "metadata": {},
     "output_type": "execute_result"
    }
   ],
   "source": [
    "# confirm\n",
    "book.confirm()"
   ]
  },
  {
   "cell_type": "code",
   "execution_count": null,
   "metadata": {
    "collapsed": true
   },
   "outputs": [],
   "source": []
  }
 ],
 "metadata": {
  "kernelspec": {
   "display_name": "Python 3",
   "language": "python",
   "name": "python3"
  },
  "language_info": {
   "codemirror_mode": {
    "name": "ipython",
    "version": 3
   },
   "file_extension": ".py",
   "mimetype": "text/x-python",
   "name": "python",
   "nbconvert_exporter": "python",
   "pygments_lexer": "ipython3",
   "version": "3.6.1"
  }
 },
 "nbformat": 4,
 "nbformat_minor": 2
}
